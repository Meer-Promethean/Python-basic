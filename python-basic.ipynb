{
 "cells": [
  {
   "cell_type": "code",
   "execution_count": 1,
   "id": "9bdcf238",
   "metadata": {},
   "outputs": [
    {
     "name": "stdout",
     "output_type": "stream",
     "text": [
      "[7, 2]\n"
     ]
    }
   ],
   "source": [
    "n = [1,2,3,4,5,6,7]\n",
    "print(n[::-5])"
   ]
  },
  {
   "cell_type": "code",
   "execution_count": 2,
   "id": "ab78e21e",
   "metadata": {},
   "outputs": [
    {
     "name": "stdout",
     "output_type": "stream",
     "text": [
      "True\n"
     ]
    }
   ],
   "source": [
    "p = 10\n",
    "q = 10\n",
    "print(p is q)"
   ]
  },
  {
   "cell_type": "code",
   "execution_count": 3,
   "id": "6035717e",
   "metadata": {},
   "outputs": [
    {
     "name": "stdout",
     "output_type": "stream",
     "text": [
      "2\n"
     ]
    }
   ],
   "source": [
    "print(5%4**2//2)"
   ]
  },
  {
   "cell_type": "code",
   "execution_count": 4,
   "id": "ee4f79e7",
   "metadata": {},
   "outputs": [
    {
     "name": "stdout",
     "output_type": "stream",
     "text": [
      "5\n"
     ]
    }
   ],
   "source": [
    "def fun(val1 = 2,val2 = 4):\n",
    "    print(val1+val2)\n",
    "fun(val2 = 3)"
   ]
  },
  {
   "cell_type": "code",
   "execution_count": 5,
   "id": "07cd3793",
   "metadata": {},
   "outputs": [
    {
     "name": "stdout",
     "output_type": "stream",
     "text": [
      "2.0\n"
     ]
    }
   ],
   "source": [
    "print(10/5)"
   ]
  },
  {
   "cell_type": "code",
   "execution_count": 6,
   "id": "a2126dd5",
   "metadata": {},
   "outputs": [
    {
     "name": "stdout",
     "output_type": "stream",
     "text": [
      "wi\n",
      "fi\n",
      "wifififi\n"
     ]
    }
   ],
   "source": [
    "a = input()\n",
    "b = input()\n",
    "print(a + b * 3)"
   ]
  },
  {
   "cell_type": "code",
   "execution_count": null,
   "id": "2a0ecbfe",
   "metadata": {},
   "outputs": [],
   "source": []
  }
 ],
 "metadata": {
  "kernelspec": {
   "display_name": "Python 3 (ipykernel)",
   "language": "python",
   "name": "python3"
  },
  "language_info": {
   "codemirror_mode": {
    "name": "ipython",
    "version": 3
   },
   "file_extension": ".py",
   "mimetype": "text/x-python",
   "name": "python",
   "nbconvert_exporter": "python",
   "pygments_lexer": "ipython3",
   "version": "3.9.7"
  }
 },
 "nbformat": 4,
 "nbformat_minor": 5
}
